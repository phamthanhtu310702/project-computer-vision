{
 "cells": [
  {
   "cell_type": "markdown",
   "metadata": {},
   "source": [
    "## Import lib"
   ]
  },
  {
   "cell_type": "code",
   "execution_count": 78,
   "metadata": {},
   "outputs": [],
   "source": [
    "from transformers import AutoProcessor, Swinv2Model,Swinv2Config\n",
    "import torch\n",
    "from datasets import load_dataset\n",
    "from torch import nn\n",
    "import math"
   ]
  },
  {
   "cell_type": "markdown",
   "metadata": {},
   "source": [
    "## Build Model"
   ]
  },
  {
   "cell_type": "code",
   "execution_count": 79,
   "metadata": {},
   "outputs": [],
   "source": [
    "CONFIG = Swinv2Config()\n",
    "PRE_TRAINED_MODEL = \"microsoft/swinv2-tiny-patch4-window8-256\""
   ]
  },
  {
   "cell_type": "code",
   "execution_count": 114,
   "metadata": {},
   "outputs": [],
   "source": [
    "class SwinDetr(nn.Module):\n",
    "    \"\"\"\n",
    "    nums_pos_feats = num_patches_embedding : output_swin = [1,64,768]\n",
    "    \"\"\"\n",
    "    def __init__(self, num_classes,n_batches=1,num_pos_feats=64,hidden_dim=768, nheads=8,\n",
    "                 num_encoder_layers=6, num_decoder_layers=6):\n",
    "        super().__init__()\n",
    "        self.pos_embedding = nn.Parameter(torch.randn(n_batches,num_pos_feats, hidden_dim))\n",
    "        self.scale = 2 * math.pi \n",
    "        self.backbone = Swinv2Model(CONFIG)\n",
    "\n",
    "        #Transformer block\n",
    "        self.transformer = nn.Transformer(\n",
    "            hidden_dim, nheads, num_encoder_layers, num_decoder_layers\n",
    "            )\n",
    "\n",
    "        #Classification \n",
    "        self.linear_class = nn.Linear(hidden_dim, num_classes + 1)\n",
    "        self.linear_bbox = nn.Linear(hidden_dim, 4)\n",
    "\n",
    "        #Positional Embedding\n",
    "        self.query_pos = nn.Parameter(torch.rand(n_batches,num_pos_feats, hidden_dim))\n",
    "\n",
    "    def forward(self,inputs):\n",
    "        self.backbone.pooler = nn.Identity()\n",
    "        x = self.backbone(inputs)\n",
    "        x = x.last_hidden_state\n",
    "        x = self.transformer(self.pos_embedding + self.scale*x,\n",
    "                            self.query_pos)\n",
    "\n",
    "\n",
    "        return {'pred_logits': self.linear_class(x), \n",
    "                'pred_boxes': self.linear_bbox(x).sigmoid()}\n",
    "\n"
   ]
  },
  {
   "cell_type": "code",
   "execution_count": null,
   "metadata": {},
   "outputs": [],
   "source": [
    "x=torch.randn([10, 3, 256, 256])\n",
    "n_batches = x.shape[0]\n",
    "model = SwinDetr(num_classes=2,n_batches=n_batches)\n",
    "with torch.no_grad():\n",
    "    outputs = model(x)\n",
    "print(outputs)\n",
    "# 10,64,768 -> 10 64 1 768 "
   ]
  },
  {
   "cell_type": "code",
   "execution_count": 128,
   "metadata": {},
   "outputs": [],
   "source": [
    "probas = outputs['pred_logits'].softmax(-1)[0, :, :-1]\n",
    "keep = probas.max(-1).values > 0.5"
   ]
  },
  {
   "cell_type": "code",
   "execution_count": 131,
   "metadata": {},
   "outputs": [
    {
     "name": "stdout",
     "output_type": "stream",
     "text": [
      "torch.Size([10, 64, 3])\n"
     ]
    }
   ],
   "source": [
    "print(outputs['pred_logits'].shape)"
   ]
  },
  {
   "cell_type": "markdown",
   "metadata": {},
   "source": [
    "## Run model"
   ]
  },
  {
   "cell_type": "code",
   "execution_count": 132,
   "metadata": {},
   "outputs": [],
   "source": [
    "# custome loss and train the model\n",
    "x = torch.randn(3,4)\n",
    "y = torch.randn(1,4)\n",
    "z = x-y"
   ]
  },
  {
   "cell_type": "code",
   "execution_count": 134,
   "metadata": {},
   "outputs": [
    {
     "name": "stderr",
     "output_type": "stream",
     "text": [
      "/var/folders/v2/kxvx63cs0nj24qk2_m4cyb0r0000gn/T/ipykernel_19357/4097318336.py:1: UserWarning: Implicit dimension choice for log_softmax has been deprecated. Change the call to include dim=X as an argument.\n",
      "  nn.functional.log_softmax(z)\n"
     ]
    },
    {
     "data": {
      "text/plain": [
       "tensor([[-0.7947, -3.2326, -3.6134, -0.7300],\n",
       "        [-0.3149, -2.6439, -4.5132, -1.6706],\n",
       "        [-0.2384, -4.1580, -3.8847, -1.7379]])"
      ]
     },
     "execution_count": 134,
     "metadata": {},
     "output_type": "execute_result"
    }
   ],
   "source": [
    "nn.functional.log_softmax(z)"
   ]
  }
 ],
 "metadata": {
  "kernelspec": {
   "display_name": "Python 3.9.13 ('torch')",
   "language": "python",
   "name": "python3"
  },
  "language_info": {
   "codemirror_mode": {
    "name": "ipython",
    "version": 3
   },
   "file_extension": ".py",
   "mimetype": "text/x-python",
   "name": "python",
   "nbconvert_exporter": "python",
   "pygments_lexer": "ipython3",
   "version": "3.9.13"
  },
  "orig_nbformat": 4,
  "vscode": {
   "interpreter": {
    "hash": "5ffa61d47449aaf04ff74c970d58e2f8126d8497d1122c0c3ba55342874a97e9"
   }
  }
 },
 "nbformat": 4,
 "nbformat_minor": 2
}
